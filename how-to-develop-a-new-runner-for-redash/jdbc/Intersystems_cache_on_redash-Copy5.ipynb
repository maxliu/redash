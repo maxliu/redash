{
 "cells": [
  {
   "cell_type": "markdown",
   "metadata": {},
   "source": [
    "## Ref\n",
    "\n",
    "copied frm \n",
    "\n",
    "http://localhost:8999/notebooks/0_python_learn/my_learn/isc_cache/query_IRIS_HL_2019-Copy7.ipynb\n",
    "\n",
    "readme\n",
    "\n",
    "https://docs.google.com/document/d/1dt5SPV3jDzfl3FFdaembx1vESdEu6PT6u5BGOyzvDag/edit\n",
    "\n",
    "redash code\n",
    "\n",
    "https://github.com/getredash/redash/blob/master/redash/query_runner/sqlite.py\n"
   ]
  },
  {
   "cell_type": "code",
   "execution_count": null,
   "metadata": {},
   "outputs": [],
   "source": [
    "import pickle\n",
    "import db_util as util\n",
    "\n",
    "import pandas as pd \n",
    "from pandasql import *\n",
    "pysqldf = lambda q: sqldf(q, globals())"
   ]
  },
  {
   "cell_type": "code",
   "execution_count": null,
   "metadata": {},
   "outputs": [],
   "source": [
    "import sys\n",
    "sys.path.append(\"/home/maxliu/redash\")"
   ]
  },
  {
   "cell_type": "markdown",
   "metadata": {},
   "source": [
    "## run using  jdbc"
   ]
  },
  {
   "cell_type": "code",
   "execution_count": null,
   "metadata": {},
   "outputs": [],
   "source": [
    "cache_user = '_SYSTEM'\n",
    "cache_pw = 'SYS'\n",
    "# cache_url = \"jdbc:IRIS://172.17.0.2:51773/\"\n",
    "cache_url = \"jdbc:IRIS://172.19.0.1:51773/\""
   ]
  },
  {
   "cell_type": "code",
   "execution_count": 4,
   "metadata": {},
   "outputs": [],
   "source": [
    "sql = \"\"\"\n",
    "SELECT \n",
    "ID, Bill, Patient, Specialty, StartDateTime\n",
    "FROM IRISDemo_Data.Appointment\n",
    "\"\"\""
   ]
  },
  {
   "cell_type": "code",
   "execution_count": 5,
   "metadata": {},
   "outputs": [],
   "source": [
    "import jaydebeapi as jdbc\n",
    "import jpype\n",
    "import pandas as pd \n",
    "import sys\n",
    "\n",
    "# cache_class =  'com.intersys.jdbc.CacheDriver' \n",
    "cache_class =  'com.intersystems.jdbc.IRISDriver' \n",
    "\n",
    "jar = 'intersystems-jdbc-3.0.0.jar' \n",
    "\n",
    "db ='USER'"
   ]
  },
  {
   "cell_type": "code",
   "execution_count": 6,
   "metadata": {},
   "outputs": [
    {
     "name": "stdout",
     "output_type": "stream",
     "text": [
      "Connecting to jdbc:IRIS://172.19.0.1:51773/\n"
     ]
    }
   ],
   "source": [
    "args='-Djava.class.path=%s' % jar\n",
    "    \n",
    "jvm = jpype.getDefaultJVMPath()\n",
    "try:\n",
    "    jpype.startJVM(jvm, args)\n",
    "except:\n",
    "    pass\n",
    "\n",
    "try:\n",
    "    conn = jdbc.connect(cache_class, \n",
    "                        cache_url + db,\n",
    "                        {'user':cache_user,'password':cache_pw},\n",
    "                        jar)\n",
    "\n",
    "    print('Connecting to {}'.format(cache_url))\n",
    "\n",
    "except Exception as e:\n",
    "    print(\"Error: {}\".format(str(e)))\n",
    "    df = None\n",
    "\n",
    "finally :\n",
    "    pass\n",
    "    #jpype.shutdownJVM()\n",
    "\n"
   ]
  },
  {
   "cell_type": "code",
   "execution_count": 7,
   "metadata": {},
   "outputs": [],
   "source": [
    "df = pd.read_sql(sql, conn)\n"
   ]
  },
  {
   "cell_type": "code",
   "execution_count": 8,
   "metadata": {
    "scrolled": true
   },
   "outputs": [],
   "source": [
    "# df"
   ]
  },
  {
   "cell_type": "code",
   "execution_count": 9,
   "metadata": {},
   "outputs": [
    {
     "name": "stdout",
     "output_type": "stream",
     "text": [
      "\n",
      "SELECT \n",
      "ID, Bill, Patient, Specialty, StartDateTime\n",
      "FROM IRISDemo_Data.Appointment\n",
      "\n"
     ]
    }
   ],
   "source": [
    "print(sql)"
   ]
  },
  {
   "cell_type": "code",
   "execution_count": 10,
   "metadata": {},
   "outputs": [],
   "source": [
    "sql = \"\"\"\n",
    "\n",
    "    select *\n",
    "    from IRISDemo_Data.Appointment\n",
    "    -- where 1=0\n",
    "\"\"\""
   ]
  },
  {
   "cell_type": "code",
   "execution_count": 11,
   "metadata": {},
   "outputs": [],
   "source": [
    "curs = conn.cursor()\n",
    "curs.execute(sql)\n",
    "column_name = curs.description[0]"
   ]
  },
  {
   "cell_type": "code",
   "execution_count": 12,
   "metadata": {},
   "outputs": [],
   "source": [
    "columns = [col[0] for col in curs.description]"
   ]
  },
  {
   "cell_type": "code",
   "execution_count": 13,
   "metadata": {},
   "outputs": [
    {
     "data": {
      "text/plain": [
       "[u'ID', u'Bill', u'Patient', u'Specialty', u'StartDateTime']"
      ]
     },
     "execution_count": 13,
     "metadata": {},
     "output_type": "execute_result"
    }
   ],
   "source": [
    "columns"
   ]
  },
  {
   "cell_type": "code",
   "execution_count": 14,
   "metadata": {},
   "outputs": [],
   "source": [
    "results = curs.fetchall()"
   ]
  },
  {
   "cell_type": "code",
   "execution_count": 15,
   "metadata": {},
   "outputs": [
    {
     "data": {
      "text/plain": [
       "(u'ID',\n",
       " DBAPITypeObject('BOOLEAN', 'BIGINT', 'BIT', 'INTEGER', 'SMALLINT', 'TINYINT'),\n",
       " 20,\n",
       " 20,\n",
       " 19,\n",
       " 0,\n",
       " 0)"
      ]
     },
     "execution_count": 15,
     "metadata": {},
     "output_type": "execute_result"
    }
   ],
   "source": [
    "column_name"
   ]
  },
  {
   "cell_type": "code",
   "execution_count": 16,
   "metadata": {},
   "outputs": [
    {
     "data": {
      "text/plain": [
       "[(u'ID',\n",
       "  DBAPITypeObject('BOOLEAN', 'BIGINT', 'BIT', 'INTEGER', 'SMALLINT', 'TINYINT'),\n",
       "  20,\n",
       "  20,\n",
       "  19,\n",
       "  0,\n",
       "  0),\n",
       " (u'Bill', DBAPITypeObject('FLOAT', 'REAL', 'DOUBLE'), 22, 22, 15, 0, 1),\n",
       " (u'Patient',\n",
       "  DBAPITypeObject('BOOLEAN', 'BIGINT', 'BIT', 'INTEGER', 'SMALLINT', 'TINYINT'),\n",
       "  20,\n",
       "  20,\n",
       "  19,\n",
       "  0,\n",
       "  0),\n",
       " (u'Specialty',\n",
       "  DBAPITypeObject('CHAR', 'NCHAR', 'NVARCHAR', 'VARCHAR', 'OTHER'),\n",
       "  50,\n",
       "  50,\n",
       "  50,\n",
       "  0,\n",
       "  0),\n",
       " (u'StartDateTime', DBAPITypeObject('TIMESTAMP'), 19, 19, 23, 3, 1)]"
      ]
     },
     "execution_count": 16,
     "metadata": {},
     "output_type": "execute_result"
    }
   ],
   "source": [
    "curs.description"
   ]
  },
  {
   "cell_type": "code",
   "execution_count": 17,
   "metadata": {},
   "outputs": [
    {
     "data": {
      "text/plain": [
       "[u'ID', u'Bill', u'Patient', u'Specialty', u'StartDateTime']"
      ]
     },
     "execution_count": 17,
     "metadata": {},
     "output_type": "execute_result"
    }
   ],
   "source": [
    "[col[0] for col in curs.description]"
   ]
  },
  {
   "cell_type": "code",
   "execution_count": 18,
   "metadata": {},
   "outputs": [],
   "source": [
    "# %%bash\n",
    "# cp *.jar ~/redash/redash/query_runner/\n",
    "# ls ~/redash/redash/query_runner/*.jar"
   ]
  },
  {
   "cell_type": "markdown",
   "metadata": {},
   "source": [
    "## test intersysCache"
   ]
  },
  {
   "cell_type": "code",
   "execution_count": 19,
   "metadata": {},
   "outputs": [],
   "source": [
    "# !cp db*.*  ~/redash/redash/"
   ]
  },
  {
   "cell_type": "code",
   "execution_count": 1,
   "metadata": {},
   "outputs": [
    {
     "name": "stdout",
     "output_type": "stream",
     "text": [
      "Overwriting /home/maxliu/redash/redash/query_runner/intersyscache.py\n"
     ]
    }
   ],
   "source": [
    "%%writefile ~/redash/redash/query_runner/intersyscache.py\n",
    "\n",
    "import logging\n",
    "import sys\n",
    "\n",
    "import jaydebeapi as jdbc\n",
    "import jpype\n",
    "import sys\n",
    "\n",
    "from six import reraise\n",
    "\n",
    "from redash.query_runner import BaseSQLQueryRunner, register\n",
    "from redash.utils import json_dumps, json_loads\n",
    "\n",
    "logger = logging.getLogger(__name__)\n",
    "\n",
    "_configuration_schema = {\n",
    "                \"type\": \"object\",\n",
    "                \"properties\": {\n",
    "                    \"user\": {\n",
    "                        \"type\": \"string\",\n",
    "                        \"default\": \"_SYSTEM\"\n",
    "                    },\n",
    "                    \"password\": {\n",
    "                        \"type\": \"string\",\n",
    "                        \"default\": \"SYS\"\n",
    "\n",
    "                    },\n",
    "                    \"host\": {\n",
    "                        \"type\": \"string\",\n",
    "                        \"default\": \"jdbc:IRIS://172.19.0.1\"\n",
    "                    },\n",
    "                    \"port\": {\n",
    "                        \"type\": \"number\",\n",
    "                        \"default\": \"51773\"\n",
    "                    },\n",
    "\n",
    "                    \"dbname\": {\n",
    "                        \"type\": \"string\",\n",
    "                        \"title\": \"Database Name\",\n",
    "                        \"default\" : \"USER\"\n",
    "                    },\n",
    "                    \"driver_name\": {\n",
    "                       \"type\": \"string\",\n",
    "                       \"title\": \"driver name\",\n",
    "                       \"default\": \"com.intersystems.jdbc.IRISDriver\"\n",
    "                    },\n",
    "                    \"driver_path\": {\n",
    "                       \"type\": \"string\",\n",
    "                       \"title\": \"driver path\",\n",
    "                       \"default\": \"/app/intersystems-jdbc-3.0.0.jar\"\n",
    "                    }\n",
    "                },\n",
    "                \"order\": ['host', 'user', 'password'],\n",
    "                \"required\": [\"dbname\"],\n",
    "                \"secret\": [\"password\"]\n",
    "            }\n",
    "\n",
    "\n",
    "\n",
    "cfg = _configuration_schema['properties']\n",
    "\n",
    "\n",
    "def get_jdbc_connection(user,\n",
    "                        password,\n",
    "                        host,\n",
    "                        port,\n",
    "                        dbname,\n",
    "                        driver_name,\n",
    "                        driver_path\n",
    "                       ):\n",
    "#     driver_path = 'intersystems-jdbc-3.0.0.jar' \n",
    "#     driver_name = 'com.intersystems.jdbc.IRISDriver' \n",
    "    cfg = InterSysCache.configuration_schema()['properties']\n",
    "    \n",
    "    user = user if user is not None and (len(user)>=0) \\\n",
    "                                else cfg['user']['default'] \n",
    "    \n",
    "    password = password if password is not None and (len(password)>0) \\\n",
    "                                else cfg['password']['default'] \n",
    "    \n",
    "    host = host if host is not None and (len(host)>0) \\\n",
    "                                else cfg['host']['default'] \n",
    "    \n",
    "    port = port if port is not None and (len(str(port))>0) \\\n",
    "                                else cfg['port']['default'] \n",
    "    \n",
    "    dbname = dbname if dbname is not  None and (len(dbname)>0) \\\n",
    "                                else cfg['dbname']['default'] \n",
    "    \n",
    "    driver_name = driver_name if driver_name is not None  and  (len(driver_name)>0) \\\n",
    "                                else cfg['driver_name']['default'] \n",
    "    \n",
    "    driver_path = driver_path if driver_path is not None and   (len(driver_path)>0) \\\n",
    "                                else cfg['driver_path']['default'] \n",
    "    \n",
    "    if host[-1]=='/':\n",
    "        host = host[:-1]\n",
    "\n",
    "    args='-Djava.class.path=%s' % driver_path\n",
    "        \n",
    "    jvm = jpype.getDefaultJVMPath()\n",
    "    try:\n",
    "        jpype.startJVM(jvm, args)\n",
    "    except:\n",
    "        pass\n",
    "    \n",
    "    if jpype.isJVMStarted() and not jpype.isThreadAttachedToJVM():\n",
    "        jpype.attachThreadToJVM()\n",
    "        jpype.java.lang.Thread.currentThread().setContextClassLoader(jpype.java.lang.ClassLoader.getSystemClassLoader())\n",
    "    \n",
    "    conn_str = host + ':' + str(port) + '/' + dbname + '/'\n",
    "    \n",
    "#     logger.info(\"\\n\\n\\n\", conn_str)\n",
    "#     logger.info(\"\\n\\n\\n\")\n",
    "    \n",
    "#     conn_str = \"jdbc:IRIS://172.19.0.1:51773/USER\"\n",
    "\n",
    "    connection = jdbc.connect(\n",
    "        driver_name,\n",
    "        conn_str,\n",
    "        {'user': user, 'password': password, 'tmode': 'TERA', 'charset': 'UTF8'},\n",
    "        driver_path )\n",
    "    \n",
    "    return connection\n",
    "\n",
    "       \n",
    "class InterSysCache(BaseSQLQueryRunner):\n",
    "    noop_query = \"select 1\"\n",
    "\n",
    "    @classmethod\n",
    "    def configuration_schema(cls):\n",
    "        return _configuration_schema\n",
    "\n",
    "    @classmethod\n",
    "    def type(cls):\n",
    "        return \"intersyscache\"\n",
    "\n",
    "    def __init__(self, configuration):\n",
    "        super(InterSysCache, self).__init__(configuration)\n",
    "\n",
    "\n",
    "    def _get_tables(self, schema):\n",
    "\n",
    "        query_table = \"\"\"\n",
    "                SELECT '\"' || TABLE_SCHEMA || '\".\"' || TABLE_NAME || '\"' as tbl_name \n",
    "                from INFORMATION_SCHEMA.TABLES\n",
    "                where TABLE_TYPE='BASE TABLE' and TABLE_SCHEMA not like 'Ens%'\n",
    "            \"\"\"\n",
    "\n",
    "        query_columns = \"SELECT * from(%s) where 1=0\"\n",
    "\n",
    "        \n",
    "        results, error = self.run_query(query_table, None)\n",
    "\n",
    "        if error is not None:\n",
    "            raise Exception(\"Failed getting schema.\")\n",
    "\n",
    "        results = json_loads(results)\n",
    "\n",
    "        for row in results['rows']:\n",
    "\n",
    "            table_name = row['tbl_name']\n",
    "            schema[table_name] = {'name': table_name, 'columns': []}\n",
    "\n",
    "            results_table, error = self.run_query(query_columns % (table_name,), None)\n",
    "            if error is not None:\n",
    "                raise Exception(\"Failed getting schema.\")\n",
    "\n",
    "        return schema.values()\n",
    "\n",
    "    def run_query(self, query, user):\n",
    "\n",
    "        connection = get_jdbc_connection(\n",
    "                        user = self.configuration.get('user')  ,\n",
    "                        password = self.configuration.get('password'),\n",
    "                        host = self.configuration.get('host'),\n",
    "                        port = self.configuration.get('port'),\n",
    "                        dbname = self.configuration.get('dbname'),\n",
    "                        driver_name = self.configuration.get('driver_name', \"com.intersystems.jdbc.IRISDriver\"),\n",
    "                        driver_path = self.configuration.get('driver_path')\n",
    "                        )\n",
    "        \n",
    "        cursor = connection.cursor()\n",
    "\n",
    "        try:\n",
    "            cursor.execute(query)\n",
    "\n",
    "            if cursor.description is not None:\n",
    "                columns0 =  [col[0] for col in cursor.description]\n",
    "                \n",
    "                columns = self.fetch_columns([(i, None) for i in columns0])\n",
    "                rows = cursor.fetchall()\n",
    "                row_data = [dict(zip(columns0, row)) for row in rows]             \n",
    "                data = {'columns': columns, 'rows': row_data}\n",
    "                error = None\n",
    "                json_data = json_dumps(data)\n",
    "            else:\n",
    "                error = 'Query completed but it returned no data.'\n",
    "                json_data = None\n",
    "        except KeyboardInterrupt:\n",
    "            connection.cancel()\n",
    "            error = \"Query cancelled by user.\"\n",
    "            json_data = None\n",
    "        except Exception as e:\n",
    "            err_class = sys.exc_info()[1].__class__\n",
    "            err_args = [arg.decode('utf-8') for arg in sys.exc_info()[1].args]\n",
    "            unicode_err = err_class(*err_args)\n",
    "            reraise(unicode_err, None, sys.exc_info()[2])\n",
    "        finally:\n",
    "            connection.close()\n",
    "        return json_data, error\n",
    "#     \n",
    "register(InterSysCache)"
   ]
  },
  {
   "cell_type": "code",
   "execution_count": 35,
   "metadata": {},
   "outputs": [
    {
     "ename": "NameError",
     "evalue": "name 'InterSysCache' is not defined",
     "output_type": "error",
     "traceback": [
      "\u001b[0;31m---------------------------------------------------------------------------\u001b[0m",
      "\u001b[0;31mNameError\u001b[0m                                 Traceback (most recent call last)",
      "\u001b[0;32m<ipython-input-35-75d69ba4409b>\u001b[0m in \u001b[0;36m<module>\u001b[0;34m()\u001b[0m\n\u001b[0;32m----> 1\u001b[0;31m \u001b[0mInterSysCache\u001b[0m\u001b[0;34m.\u001b[0m\u001b[0mconfiguration_schema\u001b[0m\u001b[0;34m(\u001b[0m\u001b[0;34m)\u001b[0m\u001b[0;34m\u001b[0m\u001b[0m\n\u001b[0m",
      "\u001b[0;31mNameError\u001b[0m: name 'InterSysCache' is not defined"
     ]
    }
   ],
   "source": [
    "# InterSysCache.configuration_schema()"
   ]
  },
  {
   "cell_type": "code",
   "execution_count": 33,
   "metadata": {},
   "outputs": [
    {
     "name": "stdout",
     "output_type": "stream",
     "text": [
      "Overwriting /home/maxliu/redash/redash/query_runner/intersyscache_test.py\n"
     ]
    }
   ],
   "source": [
    "%%writefile ~/redash/redash/query_runner/intersyscache_test.py\n",
    "\n",
    "import sys\n",
    "\n",
    "\n",
    "\n",
    "sys.path.append(\"/app/\")\n",
    "sys.path.append(\"/app/redash/\")\n",
    "\n",
    "from intersyscache import InterSysCache\n",
    "\n",
    "\n",
    "\n",
    "\n",
    "sql = \"\"\"\n",
    "\n",
    "select *\n",
    "from IRISDemo_Data.Appointment\n",
    "-- where 1=0\n",
    "\"\"\"\n",
    "\n",
    "configuration={'dbpath':''}\n",
    "\n",
    "ic = InterSysCache(configuration)\n",
    "\n",
    "data = ic.run_query(sql,'max')\n",
    "print(data)\n"
   ]
  },
  {
   "cell_type": "code",
   "execution_count": null,
   "metadata": {},
   "outputs": [],
   "source": [
    "schema = {'a':'c'}"
   ]
  },
  {
   "cell_type": "code",
   "execution_count": null,
   "metadata": {},
   "outputs": [],
   "source": [
    "schema = {'mocke_database':{'columns':['a','b'], 'name':'mock'}}"
   ]
  },
  {
   "cell_type": "code",
   "execution_count": null,
   "metadata": {},
   "outputs": [],
   "source": [
    "schema.values()"
   ]
  },
  {
   "cell_type": "code",
   "execution_count": null,
   "metadata": {},
   "outputs": [],
   "source": [
    "def t(schema,x,y):\n",
    "    schema['a']=3\n",
    "    x = 4\n",
    "    y = [1,2,3]"
   ]
  },
  {
   "cell_type": "code",
   "execution_count": null,
   "metadata": {},
   "outputs": [],
   "source": [
    "x = 5\n",
    "y = [4,5,6]\n",
    "t(schema,x ,y )"
   ]
  },
  {
   "cell_type": "code",
   "execution_count": null,
   "metadata": {},
   "outputs": [],
   "source": [
    "schema"
   ]
  },
  {
   "cell_type": "code",
   "execution_count": null,
   "metadata": {},
   "outputs": [],
   "source": [
    "x"
   ]
  },
  {
   "cell_type": "code",
   "execution_count": null,
   "metadata": {},
   "outputs": [],
   "source": [
    "y"
   ]
  },
  {
   "cell_type": "code",
   "execution_count": null,
   "metadata": {},
   "outputs": [],
   "source": [
    "def f(x=2, y=4):\n",
    "    return x + y"
   ]
  },
  {
   "cell_type": "code",
   "execution_count": null,
   "metadata": {},
   "outputs": [],
   "source": [
    "f(2,5)"
   ]
  },
  {
   "cell_type": "code",
   "execution_count": null,
   "metadata": {},
   "outputs": [],
   "source": [
    "f(None,6)"
   ]
  },
  {
   "cell_type": "code",
   "execution_count": null,
   "metadata": {},
   "outputs": [],
   "source": []
  }
 ],
 "metadata": {
  "kernelspec": {
   "display_name": "py2",
   "language": "python",
   "name": "py2"
  },
  "language_info": {
   "codemirror_mode": {
    "name": "ipython",
    "version": 2
   },
   "file_extension": ".py",
   "mimetype": "text/x-python",
   "name": "python",
   "nbconvert_exporter": "python",
   "pygments_lexer": "ipython2",
   "version": "2.7.16"
  }
 },
 "nbformat": 4,
 "nbformat_minor": 2
}
